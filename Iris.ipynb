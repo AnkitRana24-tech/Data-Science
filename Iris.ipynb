{
  "nbformat": 4,
  "nbformat_minor": 0,
  "metadata": {
    "colab": {
      "provenance": [],
      "authorship_tag": "ABX9TyPHBW5dcCBjYLReXbuUPNMZ",
      "include_colab_link": true
    },
    "kernelspec": {
      "name": "python3",
      "display_name": "Python 3"
    },
    "language_info": {
      "name": "python"
    }
  },
  "cells": [
    {
      "cell_type": "markdown",
      "metadata": {
        "id": "view-in-github",
        "colab_type": "text"
      },
      "source": [
        "<a href=\"https://colab.research.google.com/github/AnkitRana24-tech/Data-Science/blob/main/Iris.ipynb\" target=\"_parent\"><img src=\"https://colab.research.google.com/assets/colab-badge.svg\" alt=\"Open In Colab\"/></a>"
      ]
    },
    {
      "cell_type": "markdown",
      "source": [
        "IMPORTANT LIBRARIES\n"
      ],
      "metadata": {
        "id": "t705xRGcmBWR"
      }
    },
    {
      "cell_type": "code",
      "execution_count": null,
      "metadata": {
        "id": "35SCtVsMsJuz"
      },
      "outputs": [],
      "source": [
        "import numpy as np\n",
        "import matplotlib.pyplot as plt\n",
        "import seaborn as sns\n",
        "import pandas as pd\n",
        "%matplotlib inline"
      ]
    },
    {
      "cell_type": "markdown",
      "source": [
        "LOADING DATASET"
      ],
      "metadata": {
        "id": "ZlkBd0mNmMp6"
      }
    },
    {
      "cell_type": "code",
      "source": [
        "columns = ['Sepal length', 'Sepal width', 'Petal length', 'Petal width', 'Class_labels']\n",
        "df = pd.read_csv('IRIS.csv', names=columns)\n",
        "df.head()"
      ],
      "metadata": {
        "id": "rJ-IqAXQIl6z",
        "collapsed": true
      },
      "execution_count": null,
      "outputs": []
    },
    {
      "cell_type": "markdown",
      "source": [
        "VISUALIZING DATASET"
      ],
      "metadata": {
        "id": "BTs0_t1JmU2H"
      }
    },
    {
      "cell_type": "code",
      "source": [
        "df.describe()"
      ],
      "metadata": {
        "id": "ebQi87xvM5L3"
      },
      "execution_count": null,
      "outputs": []
    },
    {
      "cell_type": "code",
      "source": [
        "sns.pairplot(df, hue='Class_labels')"
      ],
      "metadata": {
        "id": "mvJizlKLN5Hw"
      },
      "execution_count": null,
      "outputs": []
    },
    {
      "cell_type": "markdown",
      "source": [
        "SEPARATING INPUT AND OUTPUT"
      ],
      "metadata": {
        "id": "2XgA_oCem41h"
      }
    },
    {
      "cell_type": "code",
      "source": [
        "data = df.values\n",
        "\n",
        "X = data[:, 0:4]\n",
        "Y = data[:, 4]\n",
        "print(X)\n",
        "print(Y)"
      ],
      "metadata": {
        "id": "mkuTwkSFOhZi"
      },
      "execution_count": null,
      "outputs": []
    },
    {
      "cell_type": "markdown",
      "source": [
        "SPLITTING DATA INTO TRAINING AND TESTING"
      ],
      "metadata": {
        "id": "BjuHmpUVnAK8"
      }
    },
    {
      "cell_type": "code",
      "source": [
        "from sklearn.model_selection import train_test_split\n",
        "X_train, X_test, Y_train, Y_test = train_test_split(X, Y, test_size=0.2)"
      ],
      "metadata": {
        "id": "Ci_hT4PKbXeM"
      },
      "execution_count": null,
      "outputs": []
    },
    {
      "cell_type": "markdown",
      "source": [
        "MODEL1:-support vector machine algorithm"
      ],
      "metadata": {
        "id": "BX8EqeCwnHzx"
      }
    },
    {
      "cell_type": "code",
      "source": [
        "from sklearn.svm import SVC\n",
        "\n",
        "model_svc = SVC()\n",
        "model_svc.fit(X_train, Y_train)"
      ],
      "metadata": {
        "id": "UjUQ42_VdD7o"
      },
      "execution_count": null,
      "outputs": []
    },
    {
      "cell_type": "code",
      "source": [
        "prediction1 = model_svc.predict(X_test)\n",
        "\n",
        "from sklearn.metrics import accuracy_score\n",
        "print(accuracy_score(Y_test, prediction1)*100)\n",
        "for i in range(len(prediction1)):\n",
        "  print(Y_test, prediction1[i])"
      ],
      "metadata": {
        "id": "KDpZld5ndfgN"
      },
      "execution_count": null,
      "outputs": []
    },
    {
      "cell_type": "markdown",
      "source": [
        "MODEL2:-LOGISTIC REGRESSION"
      ],
      "metadata": {
        "id": "MQ-TvNz-nb7T"
      }
    },
    {
      "cell_type": "code",
      "source": [
        "from sklearn.linear_model import LogisticRegression\n",
        "model_LR=LogisticRegression()\n",
        "model_LR.fit(X_train, Y_train)"
      ],
      "metadata": {
        "id": "jaijzhdteIAX"
      },
      "execution_count": null,
      "outputs": []
    },
    {
      "cell_type": "code",
      "source": [
        "prediction2 = model_LR.predict(X_test)\n",
        "\n",
        "from sklearn.metrics import accuracy_score\n",
        "print(accuracy_score(Y_test, prediction2)*100)\n",
        "for i in range(len(prediction1)):\n",
        "  print(Y_test, prediction1[i])"
      ],
      "metadata": {
        "id": "7PuKIbV9h6qK"
      },
      "execution_count": null,
      "outputs": []
    },
    {
      "cell_type": "markdown",
      "source": [
        "MODEL3:-Decision Tree Classifier"
      ],
      "metadata": {
        "id": "Pd6TMLoTnl_j"
      }
    },
    {
      "cell_type": "code",
      "source": [
        "from sklearn.tree import DecisionTreeClassifier\n",
        "model_DTC=DecisionTreeClassifier()\n",
        "model_DTC.fit(X_train, Y_train)"
      ],
      "metadata": {
        "id": "6tk41-eHideh"
      },
      "execution_count": null,
      "outputs": []
    },
    {
      "cell_type": "code",
      "source": [
        "prediction3 = model_svc.predict(X_test)\n",
        "\n",
        "from sklearn.metrics import accuracy_score\n",
        "print(accuracy_score(Y_test, prediction3)*100)"
      ],
      "metadata": {
        "id": "un7PQZkOjMa_"
      },
      "execution_count": null,
      "outputs": []
    },
    {
      "cell_type": "markdown",
      "source": [
        "CLASSIFICATION REPORT"
      ],
      "metadata": {
        "id": "xJEimjf0ohqs"
      }
    },
    {
      "cell_type": "code",
      "source": [
        "from sklearn.metrics import classification_report\n",
        "print(classification_report(Y_test, prediction2))"
      ],
      "metadata": {
        "id": "W0PMNSvzj3kY"
      },
      "execution_count": null,
      "outputs": []
    },
    {
      "cell_type": "markdown",
      "source": [
        "REAL WORLD PREDICTION MODEL"
      ],
      "metadata": {
        "id": "MGMcXImKoF09"
      }
    },
    {
      "cell_type": "code",
      "source": [
        "X_new = np.array([[4, 2, 1, 1.2], [4.8, 2.2, 3.9, 1.1], [5.2, 2.6, 4.6, 2.9]])\n",
        "\n",
        "prediction = model_svc.predict(X_new)\n",
        "print(\"Prediction of Species: {}\".format(prediction))"
      ],
      "metadata": {
        "colab": {
          "base_uri": "https://localhost:8080/"
        },
        "id": "GkitKK-xkdjC",
        "outputId": "ae5f7462-ef64-4a08-86d6-93c7db3c2278"
      },
      "execution_count": null,
      "outputs": [
        {
          "output_type": "stream",
          "name": "stdout",
          "text": [
            "Prediction of Species: ['Iris-setosa' 'Iris-versicolor' 'Iris-virginica']\n"
          ]
        }
      ]
    }
  ]
}